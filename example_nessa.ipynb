{
  "nbformat": 4,
  "nbformat_minor": 0,
  "metadata": {
    "kernelspec": {
      "display_name": "Python 3",
      "language": "python",
      "name": "python3"
    },
    "language_info": {
      "codemirror_mode": {
        "name": "ipython",
        "version": 3
      },
      "file_extension": ".py",
      "mimetype": "text/x-python",
      "name": "python",
      "nbconvert_exporter": "python",
      "pygments_lexer": "ipython3",
      "version": "3.7.3"
    },
    "colab": {
      "name": "example_nessa.ipynb",
      "provenance": [],
      "include_colab_link": true
    },
    "accelerator": "GPU"
  },
  "cells": [
    {
      "cell_type": "markdown",
      "metadata": {
        "id": "view-in-github",
        "colab_type": "text"
      },
      "source": [
        "<a href=\"https://colab.research.google.com/github/charu11/example_CNN/blob/master/example_nessa.ipynb\" target=\"_parent\"><img src=\"https://colab.research.google.com/assets/colab-badge.svg\" alt=\"Open In Colab\"/></a>"
      ]
    },
    {
      "cell_type": "code",
      "metadata": {
        "id": "2cslK81fVj45",
        "colab_type": "code",
        "colab": {}
      },
      "source": [
        "import numpy as np\n",
        "import matplotlib.pyplot as plt\n",
        "import os\n",
        "import cv2\n",
        "from tqdm import tqdm\n",
        "\n",
        "DATA_DIR = 'directory of data set '\n",
        " \n",
        "CATEGORIES = ['category1' ]\n",
        "\n",
        "for category in CATEGORIES:\n",
        "  path = os.path.join(DATA_DIR, category)\n",
        "  for img in os.listdir(path):\n",
        "    img_array = cv2.imread(os.path.join(path, img), cv2.IMREAD_GRAYSCALE)\n",
        "    plt.imshow(img_array, cmap = 'gray')\n",
        "    plt.show()\n",
        "\n",
        "    break\n",
        "  break\n",
        "\n",
        "\n"
      ],
      "execution_count": 0,
      "outputs": []
    },
    {
      "cell_type": "code",
      "metadata": {
        "id": "zmoY2EQlY7La",
        "colab_type": "code",
        "colab": {}
      },
      "source": [
        "print(img_array)"
      ],
      "execution_count": 0,
      "outputs": []
    },
    {
      "cell_type": "code",
      "metadata": {
        "id": "cExgcAqtZBso",
        "colab_type": "code",
        "colab": {}
      },
      "source": [
        "print(img_array.shape)"
      ],
      "execution_count": 0,
      "outputs": []
    },
    {
      "cell_type": "code",
      "metadata": {
        "id": "CHLpa4E2ZJ4-",
        "colab_type": "code",
        "colab": {}
      },
      "source": [
        "IMG_SIZE = 100\n",
        "\n",
        "new_array = cv2.resize(img_array, (IMG_SIZE, IMG_SIZE))\n",
        "plt.imshow(new_array, cmap='gray')\n",
        "plt.show()"
      ],
      "execution_count": 0,
      "outputs": []
    },
    {
      "cell_type": "code",
      "metadata": {
        "id": "fRLINE6XZkJb",
        "colab_type": "code",
        "colab": {}
      },
      "source": [
        "training_data = []\n",
        "\n",
        "def create_training_data():\n",
        "  for category in CATEGORIES:\n",
        "\n",
        "    path = os.path.join(DATA_DIR, category)\n",
        "    class_num = CATEGORIES.index(category)\n",
        "\n",
        "    for img in tqdm(os.listdir(path)):\n",
        "      try:\n",
        "        img_array = cv2.imread(os.path.join(path,img) ,cv2.IMREAD_GRAYSCALE)\n",
        "        new_array = cv2.resize(img_array, (IMG_SIZE, IMG_SIZE))\n",
        "\n",
        "        training_data.append([new_array, class_num])\n",
        "\n",
        "      except Exception as e :\n",
        "        pass\n",
        "\n",
        "\n",
        "create_training_data()\n",
        "\n",
        "\n",
        "\n"
      ],
      "execution_count": 0,
      "outputs": []
    },
    {
      "cell_type": "code",
      "metadata": {
        "id": "o2FUeCtldkvz",
        "colab_type": "code",
        "colab": {}
      },
      "source": [
        "print(len(training_data))\n"
      ],
      "execution_count": 0,
      "outputs": []
    },
    {
      "cell_type": "code",
      "metadata": {
        "id": "iglStdFdebR4",
        "colab_type": "code",
        "colab": {}
      },
      "source": [
        "import random\n",
        "\n",
        "random.shuffle(training_data)\n",
        "\n",
        "for sample in training_data[:10]:\n",
        "  print(sample[1])"
      ],
      "execution_count": 0,
      "outputs": []
    },
    {
      "cell_type": "code",
      "metadata": {
        "id": "o2tD7AHCdyi2",
        "colab_type": "code",
        "colab": {}
      },
      "source": [
        "X =[]\n",
        "y =[] \n",
        "\n",
        "for features, label in training_data:\n",
        "  X.append(features)\n",
        "  y.append(label)\n",
        "\n",
        "\n",
        "print(X[0].reshape(-1, IMG_SIZE, IMG_SIZE, 1))\n",
        "\n",
        "X = np.array(X).reshape(-1, IMG_SIZE, IMG_SIZE, 1)\n",
        "\n"
      ],
      "execution_count": 0,
      "outputs": []
    },
    {
      "cell_type": "code",
      "metadata": {
        "id": "JApQUOmFgslM",
        "colab_type": "code",
        "colab": {}
      },
      "source": [
        "import pickle\n",
        "\n",
        "pickle_out = open(\"X.pickle\",\"wb\") # directory for save the pickle\n",
        "pickle.dump(X, pickle_out)\n",
        "pickle_out.close()\n",
        "\n",
        "pickle_out = open(\"y.pickle\",\"wb\") # directiory for save the pickle\n",
        "pickle.dump(y, pickle_out)\n",
        "pickle_out.close()\n",
        "\n",
        "\n",
        "\n"
      ],
      "execution_count": 0,
      "outputs": []
    },
    {
      "cell_type": "code",
      "metadata": {
        "id": "VSIjm1PmMr6a",
        "colab_type": "code",
        "colab": {}
      },
      "source": [
        "from tensorflow.keras.models import Sequential\n",
        "from tensorflow.keras.layers import Dense, Dropout, Activation, Flatten\n",
        "from tensorflow.keras.layers import Conv2D, MaxPooling2D\n",
        "from tensorflow.keras.callbacks import TensorBoard #accuracy\n",
        "from tensorflow.keras.utils import to_categorical\n",
        "import pickle\n",
        "import time\n",
        " \n",
        "NAME = \"TEST-CNN\"\n",
        " \n",
        "pickle_in = open(\"/content/drive/My Drive/Currency_notes/pickle/X.pickle\",\"rb\")\n",
        "X = pickle.load(pickle_in)\n",
        " \n",
        "pickle_in = open(\"/content/drive/My Drive/Currency_notes/pickle/y.pickle\",\"rb\")\n",
        "y = pickle.load(pickle_in)\n",
        "y = to_categorical(y)\n",
        " \n",
        "X = X/255.0\n",
        " \n",
        "model = Sequential()\n",
        " \n",
        "model.add(Conv2D(128, (3, 3), input_shape=(100,100,1)))\n",
        "model.add(Activation('relu'))\n",
        "model.add(MaxPooling2D(pool_size=(2, 2)))\n",
        "model.add(Dropout(0.3))\n",
        " \n",
        "model.add(Conv2D(128, (3, 3)))\n",
        "model.add(Activation('relu'))\n",
        "model.add(MaxPooling2D(pool_size=(2, 2)))\n",
        "model.add(Dropout(0.3))\n",
        " \n",
        "model.add(Conv2D(128, (3, 3)))\n",
        "model.add(Activation('relu'))\n",
        "model.add(MaxPooling2D(pool_size=(2, 2)))\n",
        "model.add(Dropout(0.3))\n",
        " \n",
        "model.add(Flatten())  \n",
        " \n",
        "model.add(Dense(128))\n",
        "model.add(Activation('relu'))\n",
        " \n",
        "model.add(Dense(2))\n",
        "model.add(Activation('softmax'))\n",
        " \n",
        "tensorboard = TensorBoard('tensorboard directory')\n",
        " \n",
        "model.compile(loss='categorical_crossentropy',\n",
        "              optimizer='adam',\n",
        "              metrics=['accuracy'],\n",
        "              )\n",
        " \n",
        "model.fit(X, y,\n",
        "          batch_size=32,\n",
        "          epochs=10,\n",
        "          validation_split=0.3,\n",
        "          callbacks=[tensorboard])\n",
        " \n",
        "model.save(f\"directory to save the model\")   # as an example /content/drive/My Drive/Currency_notes/{NAME}.h5\n",
        "\n",
        "\n",
        "\n",
        "\n",
        " # if the accuracy is not good please add some hidden layers again and then save the model.....................\n",
        " # save the model with h5 extension\n"
      ],
      "execution_count": 0,
      "outputs": []
    }
  ]
}